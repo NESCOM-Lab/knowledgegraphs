{
 "cells": [
  {
   "cell_type": "markdown",
   "metadata": {},
   "source": [
    "# Installation"
   ]
  },
  {
   "cell_type": "code",
   "execution_count": 29,
   "metadata": {},
   "outputs": [
    {
     "name": "stdout",
     "output_type": "stream",
     "text": [
      "Note: you may need to restart the kernel to use updated packages.\n"
     ]
    },
    {
     "name": "stderr",
     "output_type": "stream",
     "text": [
      "ERROR: Could not find a version that satisfies the requirement langcore-chains (from versions: none)\n",
      "ERROR: No matching distribution found for langcore-chains\n"
     ]
    }
   ],
   "source": [
    "%pip install --quiet neo4j langchain-neo4j langchain-community langchain-core langchain-experimental langchain-openai json-repair langcore-chains"
   ]
  },
  {
   "cell_type": "code",
   "execution_count": 30,
   "metadata": {},
   "outputs": [
    {
     "name": "stdout",
     "output_type": "stream",
     "text": [
      "Note: you may need to restart the kernel to use updated packages.\n"
     ]
    }
   ],
   "source": [
    "%pip install --quiet --upgrade langchain-community langchain-core \"numpy<2.0\" langchain langchain-neo4j "
   ]
  },
  {
   "cell_type": "code",
   "execution_count": null,
   "metadata": {},
   "outputs": [],
   "source": [
    "# %pip --quiet install langchain-neo4j"
   ]
  },
  {
   "cell_type": "code",
   "execution_count": null,
   "metadata": {},
   "outputs": [],
   "source": [
    "# %pip install --upgrade \"numpy<2.0\""
   ]
  },
  {
   "cell_type": "markdown",
   "metadata": {},
   "source": [
    "# Set up Neo4j environment as the graph store -- comes with visualizations used later"
   ]
  },
  {
   "cell_type": "code",
   "execution_count": 31,
   "metadata": {},
   "outputs": [
    {
     "name": "stderr",
     "output_type": "stream",
     "text": [
      "Received notification from DBMS server: {severity: WARNING} {code: Neo.ClientNotification.Statement.FeatureDeprecationWarning} {category: DEPRECATION} {title: This feature is deprecated and will be removed in future versions.} {description: The procedure has a deprecated field. ('config' used by 'apoc.meta.graphSample' is deprecated.)} {position: line: 1, column: 1, offset: 0} for query: \"CALL apoc.meta.graphSample() YIELD nodes, relationships RETURN nodes, [rel in relationships | {name:apoc.any.property(rel, 'type'), count: apoc.any.property(rel, 'count')}] AS relationships\"\n"
     ]
    }
   ],
   "source": [
    "\n",
    "# from langchain_community.graphs import Neo4jGraph\n",
    "from langchain_neo4j import Neo4jGraph\n",
    "from dotenv import load_dotenv\n",
    "import os\n",
    "# from langchain.graphs.neo4j_graph import Neo4jGraph \n",
    "\n",
    "load_dotenv()\n",
    "neo_pass = os.getenv(\"NEO4J_PASS\")\n",
    "neo_db_id = os.getenv(\"DB_ID\")\n",
    "\n",
    "graph = Neo4jGraph(\n",
    "    url=\"neo4j+s://f5c81351.databases.neo4j.io\",\n",
    "    username=\"neo4j\",\n",
    "    password=neo_pass,\n",
    "    enhanced_schema=True\n",
    "    # refresh_schema=Fa lse\n",
    ")\n",
    "\n",
    "def clean_graph():\n",
    "    query = \"\"\"\n",
    "    MATCH (n)\n",
    "    DETACH DELETE n\n",
    "    \"\"\"\n",
    "    graph.query(query)"
   ]
  },
  {
   "cell_type": "markdown",
   "metadata": {},
   "source": [
    "# Import GraphQA Chain"
   ]
  },
  {
   "cell_type": "code",
   "execution_count": 32,
   "metadata": {},
   "outputs": [],
   "source": [
    "# from langchain.chains import GraphQAChain old\n",
    "from langchain_neo4j import GraphCypherQAChain\n",
    "\n",
    "from langchain_core.prompts import PromptTemplate\n",
    "# from langchain_community.chains.graph_qa.cypher import GraphCypherQAChain\n"
   ]
  },
  {
   "cell_type": "markdown",
   "metadata": {},
   "source": [
    "# Clean graph if required"
   ]
  },
  {
   "cell_type": "code",
   "execution_count": 33,
   "metadata": {},
   "outputs": [],
   "source": [
    "clean_graph()"
   ]
  },
  {
   "cell_type": "markdown",
   "metadata": {},
   "source": [
    "# Connect to model (OpenAI for now)"
   ]
  },
  {
   "cell_type": "code",
   "execution_count": 34,
   "metadata": {},
   "outputs": [],
   "source": [
    "import getpass\n",
    "import os\n",
    "from dotenv import load_dotenv\n",
    "\n",
    "load_dotenv()\n",
    "api_key = os.getenv(\"OPENAI_API_KEY\")\n",
    "# os.environ[api_key] = getpass.getpass()"
   ]
  },
  {
   "cell_type": "markdown",
   "metadata": {},
   "source": [
    "# LangChain LLM Graph Transformer\n",
    "Establish connection with GPT 3.5"
   ]
  },
  {
   "cell_type": "code",
   "execution_count": 43,
   "metadata": {},
   "outputs": [
    {
     "name": "stdout",
     "output_type": "stream",
     "text": [
      "Note: you may need to restart the kernel to use updated packages.\n"
     ]
    }
   ],
   "source": [
    "%pip --quiet install json-repair==0.28.4 tiktoken==0.7.0 aiofiles==24.1.0 environs==11.0.0"
   ]
  },
  {
   "cell_type": "code",
   "execution_count": 46,
   "metadata": {},
   "outputs": [],
   "source": [
    "clean_graph()"
   ]
  },
  {
   "cell_type": "code",
   "execution_count": 70,
   "metadata": {},
   "outputs": [],
   "source": [
    "import os\n",
    "from langchain_experimental.graph_transformers import LLMGraphTransformer\n",
    "from langchain_openai import ChatOpenAI\n",
    "\n",
    "llm = ChatOpenAI(temperature=0, model_name=\"gpt-3.5-turbo\")\n",
    "\n",
    "additional_instructions = \"\"\"\n",
    "When creating entities, add a \"document_id\" property to each node and set it to the document's unique ID.\n",
    "For example, if the document ID is \"doc123\", each created node should include `document_id: \"doc123\"`.\n",
    "Query example: \n",
    "CREATE (n:NodeLabel) \n",
    "SET n.document_id = \"doc123\" \n",
    "RETURN n\n",
    "\"\"\"\n",
    "llm_transformer = LLMGraphTransformer(llm=llm, additional_instructions=additional_instructions, ignore_tool_usage=True)\n"
   ]
  },
  {
   "cell_type": "markdown",
   "metadata": {},
   "source": [
    "# Parse Document"
   ]
  },
  {
   "cell_type": "markdown",
   "metadata": {},
   "source": [
    "Example documents"
   ]
  },
  {
   "cell_type": "code",
   "execution_count": 71,
   "metadata": {},
   "outputs": [],
   "source": [
    "clean_graph()"
   ]
  },
  {
   "cell_type": "code",
   "execution_count": 72,
   "metadata": {},
   "outputs": [
    {
     "name": "stdout",
     "output_type": "stream",
     "text": [
      "[GraphDocument(nodes=[Node(id='bananas', type='Product', properties={}), Node(id='apples', type='Product', properties={}), Node(id='bright red fruits', type='Characteristic', properties={}), Node(id='yellow car', type='Vehicle', properties={})], relationships=[Relationship(source=Node(id='apples', type='Product', properties={}), target=Node(id='bright red fruits', type='Characteristic', properties={}), type='ARE', properties={}), Relationship(source=Node(id='bananas', type='Product', properties={}), target=Node(id='yellow car', type='Vehicle', properties={}), type='ARE_CODE_WORD_FOR', properties={})], source=Document(metadata={}, page_content='apples are bright red fruits.\\nbananas in this context are a code word for a yellow car.'))]\n"
     ]
    }
   ],
   "source": [
    "from langchain_core.documents import Document\n",
    "with open('apple_document.txt', 'r') as file:\n",
    "    text = file.read()\n",
    "\n",
    "doc = [Document(page_content=text)]\n",
    "graph_doc = await llm_transformer.aconvert_to_graph_documents(doc)\n",
    "print(graph_doc)\n",
    "graph.add_graph_documents(graph_doc, include_source=True, baseEntityLabel=True)\n"
   ]
  },
  {
   "cell_type": "code",
   "execution_count": 51,
   "metadata": {},
   "outputs": [
    {
     "name": "stdout",
     "output_type": "stream",
     "text": [
      "[GraphDocument(nodes=[Node(id='bright yellow fruits', type='Characteristic', properties={}), Node(id='Red trucks', type='Vehicle', properties={}), Node(id='Apples', type='Product', properties={}), Node(id='Bananas', type='Product', properties={})], relationships=[Relationship(source=Node(id='Bananas', type='Product', properties={}), target=Node(id='bright yellow fruits', type='Characteristic', properties={}), type='ARE', properties={}), Relationship(source=Node(id='Apples', type='Product', properties={}), target=Node(id='Red trucks', type='Vehicle', properties={}), type='ARE_CODE_WORD_FOR', properties={})], source=Document(metadata={'id': '83b84d36a24f3f060e3107fa7bc0d748'}, page_content='Bananas are bright yellow fruits.\\nApples in this context are a code word for Red trucks.'))]\n"
     ]
    }
   ],
   "source": [
    "from langchain_core.documents import Document\n",
    "with open('banana_document.txt', 'r') as file:\n",
    "    text = file.read()\n",
    "\n",
    "doc = [Document(page_content=text)]\n",
    "graph_doc = await llm_transformer.aconvert_to_graph_documents(doc)\n",
    "graph.add_graph_documents(graph_doc, include_source=True, baseEntityLabel=True)\n",
    "print(graph_doc)\n"
   ]
  },
  {
   "cell_type": "markdown",
   "metadata": {},
   "source": [
    "Example: Neuroscience paper\n"
   ]
  },
  {
   "cell_type": "code",
   "execution_count": null,
   "metadata": {},
   "outputs": [],
   "source": [
    "from langchain_core.documents import Document\n",
    "with open('verylarge_document.txt', 'r') as file:\n",
    "    text = file.read()\n",
    "\n",
    "documents = [Document(page_content=text)]\n",
    "graph_documents = await llm_transformer.aconvert_to_graph_documents(documents)\n",
    "\n",
    "# baseEntityLabel allows us to optimize data retrieval even though we don't\n",
    "# know all node labels and don't keep track of indices\n",
    "graph.add_graph_documents(graph_documents, include_source=True, baseEntityLabel=True)\n",
    "\n",
    "\n",
    "\n",
    "\n",
    "\n",
    "# # assign a unique document ID\n",
    "# document_id = 'apple2'\n",
    "# for graph_document in graph_documents:\n",
    "#     # For nodes\n",
    "#     for node in graph_document.nodes:\n",
    "#         # Prepare Cypher query to add document_id to the node\n",
    "#         query = \"\"\"\n",
    "#         MATCH (n)\n",
    "#         SET n.document_id = 'apple2'\n",
    "#         RETURN n\n",
    "#         \"\"\"\n",
    "#         # Use graph.query() to run the query\n",
    "#         graph.query(query, {\"node_id\": node.id, \"document_id\": document_id})\n",
    "\n",
    "\n",
    "\n",
    "# no_schema = LLMGraphTransformer(llm=llm)\n",
    "# data = await no_schema.aconvert_to_graph_documents(documents)\n",
    "# graph.add_graph_documents(data)\n",
    "\n",
    "# print(f\"Nodes:{graph_documents[0].nodes}\")\n",
    "# print(f\"Relationships:{graph_documents[0].relationships}\")"
   ]
  },
  {
   "cell_type": "code",
   "execution_count": null,
   "metadata": {},
   "outputs": [],
   "source": []
  },
  {
   "cell_type": "code",
   "execution_count": null,
   "metadata": {},
   "outputs": [],
   "source": [
    "# %pip install  --quiet --upgrade langchain neo4j"
   ]
  },
  {
   "cell_type": "markdown",
   "metadata": {},
   "source": [
    "# Prompt Template"
   ]
  },
  {
   "cell_type": "code",
   "execution_count": null,
   "metadata": {},
   "outputs": [],
   "source": [
    "\n",
    "graph.refresh_schema()\n",
    "# CYPHER_GENERATION_TEMPLATE = \"\"\"Task:Generate Cypher statement to query a graph database.\n",
    "# Instructions:\n",
    "# Use only the provided relationship types and properties in the schema.\n",
    "# Do not use any other relationship types or properties that are not provided.\n",
    "# If no exact match is found for the input, generate a Cypher query using a fuzzy matching operator like `CONTAINS` to find related nodes.\n",
    "# Schema:\n",
    "# {schema}\n",
    "# Note: Do not include any explanations or apologies in your responses.\n",
    "# Do not respond to any questions that might ask anything else than for you to construct a Cypher statement.\n",
    "# Do not include any text except the generated Cypher statement.\n",
    "# Return every node as whole, do not return only the properties.\n",
    "\n",
    "# The question is:\n",
    "# {question}\"\"\"\n",
    "\n",
    "CYPHER_GENERATION_TEMPLATE = \"\"\"Task:Generate Cypher statement to query a graph database.\n",
    "Instructions:\n",
    "Use only the provided relationship types and properties in the schema.\n",
    "Do not assume any specific relationship types unless explicitly needed.\n",
    "Do not use any other relationship types or properties that are not provided.\n",
    "When querying, look for nodes connected to the target node and their relationships. Do not care about the label of the nodes.\n",
    "Also when querying, do not care about the direction of the relationship, so use `-` rather than `->`.\n",
    "When comparing to the target node, use a fuzzy matching operator like `CONTAINS` rather than strict .id: to find related nodes.\n",
    "Also, capitalize the target node appropriately to get a match in the graph.\n",
    "When querying, also match for a node x that is the document that connects to relevant nodes, where x.id is equal to the inputted document_id. However, do not return this node x in the context.\n",
    "\n",
    "\n",
    "Example 1 (specific to a particular schema):\n",
    "Question: What are the proteins associated with 'tir840'?\n",
    "Generated Cypher: \n",
    "MATCH (x)-[]-(p)-[r]-(c)\n",
    "WHERE c.id CONTAINS 'Tir840' AND NOT p:Document AND NOT c:Document AND x.id=\"{document_id}\"\n",
    "RETURN p, r, c\n",
    "\n",
    "Example 2 (specific to a particular schema):\n",
    "Question: Give me an overview of the Concept 'Tir840 Site'.\n",
    "Generated Cypher:\n",
    "MATCH (x)-[]-(p)-[r]-(c)\n",
    "WHERE c.id CONTAINS 'Tir840' AND NOT p:Document AND NOT c:Document AND x.id=\"{document_id}\" \n",
    "RETURN p, r, c\n",
    "\n",
    "Example 3 (specific to a particular schema):\n",
    "Question: What is Glur1?\n",
    "Generated Cypher: \n",
    "MATCH (x)-[]-(p)-[r]-(c)\n",
    "WHERE c.id CONTAINS 'Glur1' AND NOT p:Document AND NOT c:Document AND x.id=\"{document_id}\"\n",
    "RETURN p, r, c\n",
    "\n",
    "Schema:\n",
    "{schema}\n",
    "Note: Do not include any explanations or apologies in your responses.\n",
    "Do not respond to any questions that might ask anything else than for you to construct a Cypher statement.\n",
    "Do not include any text except the generated Cypher statement.\n",
    "Return every node as whole, do not return only the properties.\n",
    "\n",
    "The question is:\n",
    "{question}\"\"\"\n",
    "\n",
    "CYPHER_GENERATION_PROMPT = PromptTemplate(\n",
    "    input_variables=[\"schema\", \"question\", \"document_id\"], template=CYPHER_GENERATION_TEMPLATE\n",
    ")\n",
    "\n",
    "chain = GraphCypherQAChain.from_llm(\n",
    "    llm, \n",
    "    graph=graph, \n",
    "    verbose=True, \n",
    "    validate_cypher=True, # delete later? for correcting relationship directions\n",
    "    allow_dangerous_requests=True, \n",
    "    return_intermediate_steps=True,\n",
    "    cypher_prompt=CYPHER_GENERATION_PROMPT\n",
    ")"
   ]
  },
  {
   "cell_type": "code",
   "execution_count": null,
   "metadata": {},
   "outputs": [],
   "source": [
    "# user_query = \"Give me an overviwe of Glur1\"\n",
    "# user_query = \"What other molecules affects Pka and what are the relationships?\"\n",
    "user_query = \"What is Calcineurin\"\n",
    "# user_query = user_query.lower().strip()\n",
    "graph.refresh_schema()\n",
    "context = chain.invoke({\"query\": user_query, \"document_id\": \"91aa6e986408d31253a5d2706d507ad8\"}) \n",
    "\n",
    "# chain.invoke(\"\") "
   ]
  },
  {
   "cell_type": "code",
   "execution_count": null,
   "metadata": {},
   "outputs": [],
   "source": [
    "# print(context)    \n",
    "print(context[\"result\"])\n",
    "# print(context[\"intermediate_steps\"][1])"
   ]
  },
  {
   "cell_type": "code",
   "execution_count": null,
   "metadata": {},
   "outputs": [],
   "source": [
    "\n",
    "print(f\"Nodes:{graph_documents[0].nodes}\")\n",
    "print(f\"Relationships:{graph_documents[0].relationships}\")"
   ]
  },
  {
   "cell_type": "markdown",
   "metadata": {},
   "source": [
    "# Open Graph with Neo4j browser"
   ]
  },
  {
   "cell_type": "code",
   "execution_count": null,
   "metadata": {},
   "outputs": [],
   "source": [
    "import webbrowser\n",
    "webbrowser.open(f'https://{neo_db_id}.databases.neo4j.io/browser/', new=2)"
   ]
  },
  {
   "cell_type": "markdown",
   "metadata": {},
   "source": [
    "In Neo4j browser, use\n",
    "MATCH(n) return n\n",
    "to display graph (Cypher query language)"
   ]
  }
 ],
 "metadata": {
  "kernelspec": {
   "display_name": "base",
   "language": "python",
   "name": "python3"
  },
  "language_info": {
   "codemirror_mode": {
    "name": "ipython",
    "version": 3
   },
   "file_extension": ".py",
   "mimetype": "text/x-python",
   "name": "python",
   "nbconvert_exporter": "python",
   "pygments_lexer": "ipython3",
   "version": "3.12.3"
  }
 },
 "nbformat": 4,
 "nbformat_minor": 2
}
