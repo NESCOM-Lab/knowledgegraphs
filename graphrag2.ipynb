{
 "cells": [
  {
   "cell_type": "code",
   "execution_count": 6,
   "metadata": {},
   "outputs": [
    {
     "name": "stdout",
     "output_type": "stream",
     "text": [
      "^C\n",
      "Note: you may need to restart the kernel to use updated packages.\n"
     ]
    }
   ],
   "source": [
    "%pip install --quiet neo4j langchain-community langchain-core langchain-experimental langchain-openai json-repair langcore-chains"
   ]
  },
  {
   "cell_type": "markdown",
   "metadata": {},
   "source": [
    "# Set up Neo4j environment as the graph store -- comes with visualizations used later"
   ]
  },
  {
   "cell_type": "code",
   "execution_count": null,
   "metadata": {},
   "outputs": [
    {
     "name": "stdout",
     "output_type": "stream",
     "text": [
      "Note: you may need to restart the kernel to use updated packages.\n"
     ]
    }
   ],
   "source": [
    "%pip install --quiet --upgrade langchain-community langchain-core "
   ]
  },
  {
   "cell_type": "code",
   "execution_count": null,
   "metadata": {},
   "outputs": [
    {
     "name": "stdout",
     "output_type": "stream",
     "text": [
      "Note: you may need to restart the kernel to use updated packages.\n"
     ]
    }
   ],
   "source": [
    "%pip --quiet install langchain-neo4j"
   ]
  },
  {
   "cell_type": "code",
   "execution_count": 1,
   "metadata": {},
   "outputs": [
    {
     "name": "stdout",
     "output_type": "stream",
     "text": [
      "Requirement already satisfied: numpy<2.0 in c:\\users\\abhis\\miniconda3\\lib\\site-packages (1.26.4)\n",
      "Note: you may need to restart the kernel to use updated packages.\n"
     ]
    }
   ],
   "source": [
    "%pip install --upgrade \"numpy<2.0\""
   ]
  },
  {
   "cell_type": "code",
   "execution_count": 115,
   "metadata": {},
   "outputs": [
    {
     "name": "stderr",
     "output_type": "stream",
     "text": [
      "Received notification from DBMS server: {severity: WARNING} {code: Neo.ClientNotification.Statement.FeatureDeprecationWarning} {category: DEPRECATION} {title: This feature is deprecated and will be removed in future versions.} {description: The procedure has a deprecated field. ('config' used by 'apoc.meta.graphSample' is deprecated.)} {position: line: 1, column: 1, offset: 0} for query: \"CALL apoc.meta.graphSample() YIELD nodes, relationships RETURN nodes, [rel in relationships | {name:apoc.any.property(rel, 'type'), count: apoc.any.property(rel, 'count')}] AS relationships\"\n"
     ]
    }
   ],
   "source": [
    "\n",
    "from langchain_community.graphs import Neo4jGraph\n",
    "from dotenv import load_dotenv\n",
    "import os\n",
    "# from langchain.graphs.neo4j_graph import Neo4jGraph \n",
    "\n",
    "load_dotenv()\n",
    "neo_pass = os.getenv(\"NEO4J_PASS\")\n",
    "neo_db_id = os.getenv(\"DB_ID\")\n",
    "\n",
    "graph = Neo4jGraph(\n",
    "    url=\"neo4j+s://f5c81351.databases.neo4j.io\",\n",
    "    username=\"neo4j\",\n",
    "    password=neo_pass,\n",
    "    enhanced_schema=True\n",
    "    # refresh_schema=Fa lse\n",
    ")\n",
    "\n",
    "def clean_graph():\n",
    "    query = \"\"\"\n",
    "    MATCH (n)\n",
    "    DETACH DELETE n\n",
    "    \"\"\"\n",
    "    graph.query(query)"
   ]
  },
  {
   "cell_type": "markdown",
   "metadata": {},
   "source": [
    "# Clean graph if required"
   ]
  },
  {
   "cell_type": "code",
   "execution_count": 19,
   "metadata": {},
   "outputs": [],
   "source": [
    "clean_graph()"
   ]
  },
  {
   "cell_type": "markdown",
   "metadata": {},
   "source": [
    "# Connect to model (OpenAI for now)"
   ]
  },
  {
   "cell_type": "code",
   "execution_count": 12,
   "metadata": {},
   "outputs": [],
   "source": [
    "import getpass\n",
    "import os\n",
    "from dotenv import load_dotenv\n",
    "\n",
    "load_dotenv()\n",
    "api_key = os.getenv(\"OPENAI_API_KEY\")\n",
    "os.environ[api_key] = getpass.getpass()"
   ]
  },
  {
   "cell_type": "markdown",
   "metadata": {},
   "source": [
    "# LangChain LLM Graph Transformer\n",
    "Establish connection with GPT 3.5"
   ]
  },
  {
   "cell_type": "code",
   "execution_count": 8,
   "metadata": {},
   "outputs": [
    {
     "name": "stdout",
     "output_type": "stream",
     "text": [
      "Note: you may need to restart the kernel to use updated packages.\n"
     ]
    }
   ],
   "source": [
    "%pip install --quiet langchain-experimental"
   ]
  },
  {
   "cell_type": "code",
   "execution_count": 13,
   "metadata": {},
   "outputs": [],
   "source": [
    "import os\n",
    "from langchain_experimental.graph_transformers import LLMGraphTransformer\n",
    "from langchain_openai import ChatOpenAI\n",
    "\n",
    "llm = ChatOpenAI(temperature=0, model_name=\"gpt-3.5-turbo\")\n",
    "\n",
    "llm_transformer = LLMGraphTransformer(llm=llm)"
   ]
  },
  {
   "cell_type": "markdown",
   "metadata": {},
   "source": [
    "# Parse Document"
   ]
  },
  {
   "cell_type": "code",
   "execution_count": 20,
   "metadata": {},
   "outputs": [],
   "source": [
    "from langchain_core.documents import Document\n",
    "with open('document2.txt', 'r') as file:\n",
    "    text = file.read()\n",
    "\n",
    "documents = [Document(page_content=text)]\n",
    "graph_documents = await llm_transformer.aconvert_to_graph_documents(documents)\n",
    "# graph.add_graph_documents(graph_documents)\n",
    "graph.add_graph_documents(graph_documents, baseEntityLabel=True)\n",
    "# baseEntityLabel allows us to optimize data retrieval even though we don't know all node labels and don't keep track of indices\n",
    "\n",
    "\n",
    "\n",
    "\n",
    "\n",
    "# # assign a unique document ID\n",
    "# document_id = 'apple2'\n",
    "# for graph_document in graph_documents:\n",
    "#     # For nodes\n",
    "#     for node in graph_document.nodes:\n",
    "#         # Prepare Cypher query to add document_id to the node\n",
    "#         query = \"\"\"\n",
    "#         MATCH (n)\n",
    "#         SET n.document_id = 'apple2'\n",
    "#         RETURN n\n",
    "#         \"\"\"\n",
    "#         # Use graph.query() to run the query\n",
    "#         graph.query(query, {\"node_id\": node.id, \"document_id\": document_id})\n",
    "\n",
    "\n",
    "\n",
    "# no_schema = LLMGraphTransformer(llm=llm)\n",
    "# data = await no_schema.aconvert_to_graph_documents(documents)\n",
    "# graph.add_graph_documents(data)\n",
    "\n",
    "# print(f\"Nodes:{graph_documents[0].nodes}\")\n",
    "# print(f\"Relationships:{graph_documents[0].relationships}\")"
   ]
  },
  {
   "cell_type": "code",
   "execution_count": null,
   "metadata": {},
   "outputs": [],
   "source": []
  },
  {
   "cell_type": "code",
   "execution_count": 15,
   "metadata": {},
   "outputs": [],
   "source": [
    "from langchain.chains import GraphQAChain\n",
    "from langchain_core.prompts import PromptTemplate\n",
    "from langchain_community.chains.graph_qa.cypher import GraphCypherQAChain\n"
   ]
  },
  {
   "cell_type": "code",
   "execution_count": 17,
   "metadata": {},
   "outputs": [
    {
     "name": "stdout",
     "output_type": "stream",
     "text": [
      "Note: you may need to restart the kernel to use updated packages.\n"
     ]
    }
   ],
   "source": [
    "%pip install  --quiet --upgrade langchain neo4j"
   ]
  },
  {
   "cell_type": "code",
   "execution_count": 116,
   "metadata": {},
   "outputs": [
    {
     "name": "stderr",
     "output_type": "stream",
     "text": [
      "Received notification from DBMS server: {severity: WARNING} {code: Neo.ClientNotification.Statement.FeatureDeprecationWarning} {category: DEPRECATION} {title: This feature is deprecated and will be removed in future versions.} {description: The procedure has a deprecated field. ('config' used by 'apoc.meta.graphSample' is deprecated.)} {position: line: 1, column: 1, offset: 0} for query: \"CALL apoc.meta.graphSample() YIELD nodes, relationships RETURN nodes, [rel in relationships | {name:apoc.any.property(rel, 'type'), count: apoc.any.property(rel, 'count')}] AS relationships\"\n"
     ]
    }
   ],
   "source": [
    "\n",
    "graph.refresh_schema()\n",
    "# CYPHER_GENERATION_TEMPLATE = \"\"\"Task:Generate Cypher statement to query a graph database.\n",
    "# Instructions:\n",
    "# Use only the provided relationship types and properties in the schema.\n",
    "# Do not use any other relationship types or properties that are not provided.\n",
    "# If no exact match is found for the input, generate a Cypher query using a fuzzy matching operator like `CONTAINS` to find related nodes.\n",
    "# Schema:\n",
    "# {schema}\n",
    "# Note: Do not include any explanations or apologies in your responses.\n",
    "# Do not respond to any questions that might ask anything else than for you to construct a Cypher statement.\n",
    "# Do not include any text except the generated Cypher statement.\n",
    "# Return every node as whole, do not return only the properties.\n",
    "\n",
    "# The question is:\n",
    "# {question}\"\"\"\n",
    "\n",
    "CYPHER_GENERATION_TEMPLATE = \"\"\"Task:Generate Cypher statement to query a graph database.\n",
    "Instructions:\n",
    "Use only the provided relationship types and properties in the schema.\n",
    "Do not use any other relationship types or properties that are not provided.\n",
    "When querying, look for nodes connected to the target node and their relationships. Do not care about the label of the nodes.\n",
    "Also when querying, do not care about the direction of the relationship, so use `-` rather than `->`.\n",
    "When comparing to the target node, use a fuzzy matching operator like `CONTAINS` rather than strict .id: to find related nodes.\n",
    "Also, capitalize the target node appropriately to get a match in the graph.\n",
    "\n",
    "Example 1 (specific to a particular schema):\n",
    "Question: What are the proteins associated with 'tir840'?\n",
    "Generated Cypher: \n",
    "MATCH (p)-[:PHOSPHORYLATES]-(c)\n",
    "WHERE c.id CONTAINS 'Tir840'\n",
    "RETURN p, c\n",
    "\n",
    "Example 2 (specific to a particular schema):\n",
    "Question: Give me an overview of the Concept 'Tir840 Site'.\n",
    "Generated Cypher:\n",
    "MATCH (p)-[:PHOSPHORYLATES]-(c)\n",
    "WHERE c.id CONTAINS 'Tir840'\n",
    "RETURN p, c\n",
    "\n",
    "Schema:\n",
    "{schema}\n",
    "Note: Do not include any explanations or apologies in your responses.\n",
    "Do not respond to any questions that might ask anything else than for you to construct a Cypher statement.\n",
    "Do not include any text except the generated Cypher statement.\n",
    "Return every node as whole, do not return only the properties.\n",
    "\n",
    "The question is:\n",
    "{question}\"\"\"\n",
    "\n",
    "CYPHER_GENERATION_PROMPT = PromptTemplate(\n",
    "    input_variables=[\"schema\", \"question\"], template=CYPHER_GENERATION_TEMPLATE\n",
    ")\n",
    "\n",
    "chain = GraphCypherQAChain.from_llm(\n",
    "    llm, \n",
    "    graph=graph, \n",
    "    verbose=True, \n",
    "    allow_dangerous_requests=True, \n",
    "    return_intermediate_steps=True,\n",
    "    cypher_prompt=CYPHER_GENERATION_PROMPT\n",
    ")"
   ]
  },
  {
   "cell_type": "code",
   "execution_count": 120,
   "metadata": {},
   "outputs": [
    {
     "name": "stderr",
     "output_type": "stream",
     "text": [
      "Received notification from DBMS server: {severity: WARNING} {code: Neo.ClientNotification.Statement.FeatureDeprecationWarning} {category: DEPRECATION} {title: This feature is deprecated and will be removed in future versions.} {description: The procedure has a deprecated field. ('config' used by 'apoc.meta.graphSample' is deprecated.)} {position: line: 1, column: 1, offset: 0} for query: \"CALL apoc.meta.graphSample() YIELD nodes, relationships RETURN nodes, [rel in relationships | {name:apoc.any.property(rel, 'type'), count: apoc.any.property(rel, 'count')}] AS relationships\"\n"
     ]
    },
    {
     "name": "stdout",
     "output_type": "stream",
     "text": [
      "\n",
      "\n",
      "\u001b[1m> Entering new GraphCypherQAChain chain...\u001b[0m\n",
      "Generated Cypher:\n",
      "\u001b[32;1m\u001b[1;3mMATCH (p)-[:MODULATOR_OF|PHOSPHORYLATES|REGULATES|MODULATES|ALSO_KNOWN_AS|MODULATED_BY|ABUNDANT_IN|MEDIATES|RESPONDS_TO|INVOLVED_IN|IMPLICATED_IN]-(c)\n",
      "WHERE p.id CONTAINS 'Pp1'\n",
      "RETURN p, c\u001b[0m\n",
      "Full Context:\n",
      "\u001b[32;1m\u001b[1;3m[{'p': {'id': 'Pp1'}, 'c': {'id': 'Ampa-Receptors'}}, {'p': {'id': 'Pp1'}, 'c': {'id': 'Nmda-Receptors'}}, {'p': {'id': 'Pp1'}, 'c': {'id': 'Dendritic Spine Formation'}}, {'p': {'id': 'Pp1'}, 'c': {'id': 'Dendritic Spine Dynamics'}}, {'p': {'id': 'Pp1'}, 'c': {'id': 'Camp'}}, {'p': {'id': 'Pp1'}, 'c': {'id': 'Ca2+'}}]\u001b[0m\n",
      "\n",
      "\u001b[1m> Finished chain.\u001b[0m\n"
     ]
    }
   ],
   "source": [
    "user_query = \"Give me an overview of Pp1\"\n",
    "# user_query = user_query.lower().strip()\n",
    "graph.refresh_schema()\n",
    "context = chain.invoke(user_query) \n",
    "\n",
    "# chain.invoke(\"\") "
   ]
  },
  {
   "cell_type": "code",
   "execution_count": 121,
   "metadata": {},
   "outputs": [
    {
     "name": "stdout",
     "output_type": "stream",
     "text": [
      "Pp1 is associated with Ampa-Receptors, Nmda-Receptors, Dendritic Spine Formation, Dendritic Spine Dynamics, Camp, and Ca2+.\n"
     ]
    }
   ],
   "source": [
    "print(context[\"result\"])\n",
    "# print(context[\"intermediate_steps\"][1])"
   ]
  },
  {
   "cell_type": "code",
   "execution_count": 12,
   "metadata": {},
   "outputs": [
    {
     "name": "stdout",
     "output_type": "stream",
     "text": [
      "Nodes:[Node(id='Ca2+/Calmodulin-Dependent Protein Kinase Ii', type='Protein', properties={}), Node(id='Synapses', type='Concept', properties={}), Node(id='Cell Signalling', type='Concept', properties={}), Node(id='Ca2+ Transients', type='Concept', properties={}), Node(id='Ltp', type='Concept', properties={}), Node(id='Memory Storing', type='Concept', properties={}), Node(id='Pka', type='Protein', properties={}), Node(id='Glur1', type='Protein', properties={}), Node(id='Ampar', type='Protein', properties={}), Node(id='Pkc', type='Protein', properties={}), Node(id='Tir840 Site', type='Concept', properties={}), Node(id='Protein Phosphatase 1', type='Protein', properties={}), Node(id='Ampa-Receptors', type='Protein', properties={}), Node(id='Nmda-Receptors', type='Protein', properties={}), Node(id='Dendritic Spine Formation', type='Concept', properties={}), Node(id='Pp1', type='Protein', properties={}), Node(id='Camp', type='Concept', properties={}), Node(id='Ca2+-Dependent Isoforms', type='Concept', properties={}), Node(id='Ca2+-Independent Isoforms', type='Concept', properties={}), Node(id='Pp2B', type='Protein', properties={}), Node(id='Calcineurin', type='Concept', properties={}), Node(id='Second Messenger', type='Concept', properties={}), Node(id='Calmodulin', type='Concept', properties={}), Node(id='B Regulatory Subunit', type='Concept', properties={})]\n",
      "Relationships:[Relationship(source=Node(id='Ca2+/Calmodulin-Dependent Protein Kinase Ii', type='Protein', properties={}), target=Node(id='Synapses', type='Concept', properties={}), type='ABUNDANT_IN', properties={}), Relationship(source=Node(id='Ca2+/Calmodulin-Dependent Protein Kinase Ii', type='Protein', properties={}), target=Node(id='Cell Signalling', type='Concept', properties={}), type='MEDIATES', properties={}), Relationship(source=Node(id='Ca2+/Calmodulin-Dependent Protein Kinase Ii', type='Protein', properties={}), target=Node(id='Ca2+ Transients', type='Concept', properties={}), type='RESPONDS_TO', properties={}), Relationship(source=Node(id='Ca2+/Calmodulin-Dependent Protein Kinase Ii', type='Protein', properties={}), target=Node(id='Ltp', type='Concept', properties={}), type='INVOLVED_IN', properties={}), Relationship(source=Node(id='Ca2+/Calmodulin-Dependent Protein Kinase Ii', type='Protein', properties={}), target=Node(id='Memory Storing', type='Concept', properties={}), type='IMPLICATED_IN', properties={}), Relationship(source=Node(id='Ca2+/Calmodulin-Dependent Protein Kinase Ii', type='Protein', properties={}), target=Node(id='Camkii Phosphorylated State', type='Concept', properties={}), type='PHOSPHORYLATES', properties={}), Relationship(source=Node(id='Pka', type='Protein', properties={}), target=Node(id='Ltp', type='Concept', properties={}), type='MODULATES', properties={}), Relationship(source=Node(id='Pka', type='Protein', properties={}), target=Node(id='Glur1', type='Protein', properties={}), type='PHOSPHORYLATES', properties={}), Relationship(source=Node(id='Pkc', type='Protein', properties={}), target=Node(id='Glur1', type='Protein', properties={}), type='PHOSPHORYLATES', properties={}), Relationship(source=Node(id='Pkc', type='Protein', properties={}), target=Node(id='Tir840 Site', type='Concept', properties={}), type='PHOSPHORYLATES', properties={}), Relationship(source=Node(id='Protein Phosphatase 1', type='Protein', properties={}), target=Node(id='Ampa-Receptors', type='Protein', properties={}), type='REGULATES', properties={}), Relationship(source=Node(id='Protein Phosphatase 1', type='Protein', properties={}), target=Node(id='Nmda-Receptors', type='Protein', properties={}), type='REGULATES', properties={}), Relationship(source=Node(id='Protein Phosphatase 1', type='Protein', properties={}), target=Node(id='Dendritic Spine Formation', type='Concept', properties={}), type='MODULATES', properties={}), Relationship(source=Node(id='Protein Phosphatase 1', type='Protein', properties={}), target=Node(id='Camp', type='Concept', properties={}), type='MODULATES', properties={}), Relationship(source=Node(id='Protein Phosphatase 1', type='Protein', properties={}), target=Node(id='Ca2+', type='Concept', properties={}), type='MODULATES', properties={}), Relationship(source=Node(id='Pp2B', type='Protein', properties={}), target=Node(id='Calcineurin', type='Concept', properties={}), type='ALSO_KNOWN_AS', properties={}), Relationship(source=Node(id='Pp2B', type='Protein', properties={}), target=Node(id='Second Messenger', type='Concept', properties={}), type='MODULATED_BY', properties={}), Relationship(source=Node(id='Pp2B', type='Protein', properties={}), target=Node(id='Calmodulin', type='Concept', properties={}), type='MODULATED_BY', properties={}), Relationship(source=Node(id='Pp2B', type='Protein', properties={}), target=Node(id='B Regulatory Subunit', type='Concept', properties={}), type='MODULATED_BY', properties={})]\n"
     ]
    }
   ],
   "source": [
    "\n",
    "print(f\"Nodes:{graph_documents[0].nodes}\")\n",
    "print(f\"Relationships:{graph_documents[0].relationships}\")"
   ]
  },
  {
   "cell_type": "markdown",
   "metadata": {},
   "source": [
    "# Open Graph with Neo4j browser"
   ]
  },
  {
   "cell_type": "code",
   "execution_count": 18,
   "metadata": {},
   "outputs": [
    {
     "data": {
      "text/plain": [
       "True"
      ]
     },
     "execution_count": 18,
     "metadata": {},
     "output_type": "execute_result"
    }
   ],
   "source": [
    "import webbrowser\n",
    "webbrowser.open(f'https://{neo_db_id}.databases.neo4j.io/browser/', new=2)"
   ]
  },
  {
   "cell_type": "markdown",
   "metadata": {},
   "source": [
    "In Neo4j browser, use\n",
    "MATCH(n) return n\n",
    "to display graph (Cypher query language)"
   ]
  }
 ],
 "metadata": {
  "kernelspec": {
   "display_name": "base",
   "language": "python",
   "name": "python3"
  },
  "language_info": {
   "codemirror_mode": {
    "name": "ipython",
    "version": 3
   },
   "file_extension": ".py",
   "mimetype": "text/x-python",
   "name": "python",
   "nbconvert_exporter": "python",
   "pygments_lexer": "ipython3",
   "version": "3.12.3"
  }
 },
 "nbformat": 4,
 "nbformat_minor": 2
}
