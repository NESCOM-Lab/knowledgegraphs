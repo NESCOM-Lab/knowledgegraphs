{
 "cells": [
  {
   "cell_type": "markdown",
   "metadata": {},
   "source": [
    "### Split document into chunks"
   ]
  },
  {
   "cell_type": "code",
   "execution_count": 44,
   "metadata": {},
   "outputs": [
    {
     "name": "stdout",
     "output_type": "stream",
     "text": [
      "7\n",
      "Tools: Git, Docker, Kubernetes, VS Code, Eclipse, Linux/Unix (Debian) \n",
      "Technologies: Google Gemini, ...\n",
      "{'chunk_id': 6, 'source': 'resume.pdf', 'page_number': 0, 'total_length': 194, 'text_preview': 'Tools: Git, Docker, Kubernetes, VS Code, Eclipse, Linux/Unix (Debian) \\nTechnologies: Google Gemini, ...'}\n"
     ]
    }
   ],
   "source": [
    "from langchain_community.document_loaders import PyPDFLoader\n",
    "from langchain_text_splitters import RecursiveCharacterTextSplitter\n",
    "\n",
    "pdf_path = \"resume.pdf\"\n",
    "loader = PyPDFLoader(pdf_path)\n",
    "pages = loader.load_and_split()\n",
    "pages = loader.load() # load pages\n",
    "\n",
    "text_splitter = RecursiveCharacterTextSplitter(chunk_size=1000, chunk_overlap=200, length_function=len)\n",
    "\n",
    "splits = text_splitter.split_documents(pages) # split the pages using LangChain's text_splitter\n",
    "\n",
    "processed_chunks = []\n",
    "\n",
    "for i, chunk in enumerate(splits):\n",
    "    # Process the chunk\n",
    "    metadata = {\n",
    "        \"chunk_id\": i,\n",
    "        \"source\": pdf_path,\n",
    "        \"page_number\": chunk.metadata.get(\"page\", None),\n",
    "        \"total_length\": len(chunk.page_content),\n",
    "        \"text_preview\": (\n",
    "            chunk.page_content[:100] + \"...\"\n",
    "            if len(chunk.page_content) > 100\n",
    "                else chunk.page_content\n",
    "        ),\n",
    "\n",
    "\n",
    "    }\n",
    "    # Store the metadata for each chunk after processing\n",
    "    processed_chunks.append({\"text\": chunk.page_content, \"metadata\": metadata})\n",
    "\n",
    "print(len(processed_chunks))\n",
    "print(processed_chunks[6]['metadata']['text_preview'])\n",
    "print(processed_chunks[6]['metadata'])\n",
    "# print(processed_chunks[0]['text_preview'])\n",
    "\n",
    "    "
   ]
  }
 ],
 "metadata": {
  "kernelspec": {
   "display_name": "base",
   "language": "python",
   "name": "python3"
  },
  "language_info": {
   "codemirror_mode": {
    "name": "ipython",
    "version": 3
   },
   "file_extension": ".py",
   "mimetype": "text/x-python",
   "name": "python",
   "nbconvert_exporter": "python",
   "pygments_lexer": "ipython3",
   "version": "3.12.3"
  }
 },
 "nbformat": 4,
 "nbformat_minor": 2
}
