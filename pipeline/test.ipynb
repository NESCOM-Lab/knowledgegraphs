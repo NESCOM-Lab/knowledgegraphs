{
 "cells": [
  {
   "cell_type": "code",
   "execution_count": 3,
   "metadata": {},
   "outputs": [
    {
     "name": "stdout",
     "output_type": "stream",
     "text": [
      "[Document(metadata={'source': 'resume.pdf', 'page': 0, 'page_label': '1'}, page_content='Abi Kakolla \\nToronto, ON | (647) 957-7403 | kakolla@usc.edu| linkedin.com/in/kakolla|kakolla.com \\n \\nEDUCATION \\nUniversity of Southern California                                                                                                                     Los Angeles, CA \\nBachelor of Science in Computer Science (GPA: 3.71)                  Dec 2026 \\nCoursework: Data Structures & Algorithms (C++), Embedded Systems (C), Solidworks  \\nHackathons: HackHarvard (Harvard), LAHacks (UCLA), HackSC (USC), CalHacks (Berkeley)  \\nInterests: Software Engineering, Machine Learning, Neuroscience \\n \\nEXPERIENCE \\nMachine Learning Researcher                        Aug 2023 - Present \\nUSC Center for Neural Engineering                                                                                          Los Angeles, CA \\n● Modeled in-silico layers of the Hippocampus used to generate a dendritic tree as part of a neural network using MeshLab and Python  \\n● Developed open-source software to grid a dataset of 6 million neural points that enhanced the neural mesh model resolution by 348%, \\nenabling other teams to create more accurate models and save on computational costs  \\n● Reduced neural network generation by 75% by integrating unsupervised machine learning algorithms, enabling faster simulations  \\n● Currently developing a Hybrid Retrieval-Augmented Generation (RAG) pipeline for research faculty integrating Graph retrieval agents \\nwith Neo4j and LangChain, and vector-based agents with Pinecone, to enable neuroscience-focused text and citation generation \\nLead Software Developer                  Nov 2021 - June 2022 \\ninLoop (sponsored by Deloitte)                                                                           Toronto, ON \\n● Led a team of 3 developers to design and build a website using JavaScript, HTML, and CSS, that “gamified” news consumption am ong \\nteens in Toronto \\n● Implemented a Firebase database for website analytics, driving data-driven decision-making that increased user engagement by 200% and \\nattracted 400 weekly visitors within two weeks \\n● Enhanced UI/UX improvements using Figma while working with the marketing department, significantly enhancing visual appeal, a nd \\nsuccessfully pitched the product to sponsors while securing support  \\n \\nPROJECTS                                                                                                                                                              \\nClean Sweep – Harvard Hackathon Winner 2024                                                           devpost.com/software/cleansweep-tjq36w \\nTechnologies: OpenCV, React, Terraform, Databricks, Raspberry Pi, Scikit -learn, Google Distance Matrix API \\n● Placed as one of the winners out of 140 teams across North America at Hack Harvard for best use of Terraform  \\n● Developed a smart city waste management platform with a team of 4 that optimized collection routes for sanitation trucks  \\n● Wrote the image contour algorithm using OpenCV to detect real -time trash levels and sent data via a REST API to a Raspberry Pi server  \\n● Implemented a Random Forest Classifier model in Databricks using Google Kubernetes Engine resources to make predictions using  the \\nreal-time data. Integrated these predictions into a React frontend, displaying optimal routes to the user (truck drivers)  \\nGenetic Optimization Algorithm    github.com/kakolla/genetic-algorithm \\nTechnologies: C++, React, TypeScript, TailwindCSS, REST API \\n● Designed a heuristic genetic optimization algorithm in C++ that uses Uniform Chromosome Crossover to develop higher -fitness \\nsolutions for target images and text \\n● Built an interactive frontend with React and TypeScript, integrating with the backend via a RESTful API  \\n● Enabled real-time hyperparameter tuning (e.g., mutation and survival rates) through an intuitive UI to improve algorithm performance  \\nScribo – AI Email classifier app   github.com/kakolla/Scribo'), Document(metadata={'source': 'resume.pdf', 'page': 0, 'page_label': '1'}, page_content='● Enabled real-time hyperparameter tuning (e.g., mutation and survival rates) through an intuitive UI to improve algorithm performance  \\nScribo – AI Email classifier app   github.com/kakolla/Scribo \\nTechnologies: Python, Tkinter, Gmail API, Supervised machine learning, Gemini  \\n● Created a lightweight email-viewing app that classifies and stars unread emails by their importance and displays a to -do summary \\n● Implemented create, update, read, and delete operations using a CRUD architecture  \\n● Designed the Gaussian Naive Bayes classifier from scratch (no Scikit -learn) by programming the matrix multiplication algorithms, \\nperforming feature engineering using self-selected parameters, and training it using 2 months’ worth of supervised email data  \\n \\nSKILLS \\nLanguages: C++, C, Python, C#, Java, Lua, TypeScript, JavaScript, SQL, Cypher, HTML/CSS  \\nFrameworks/Libraries: React, Flask, Node.js, Tailwind, NumPy, TensorFlow, Keras, Scikit-learn, Pandas \\nTools: Git, Docker, Kubernetes, VS Code, Eclipse, Linux/Unix (Debian) \\nTechnologies: Google Gemini, Mistral, Llama 3, MongoDB, Neo4J, LangChain, Pinecone  \\nOther: Arduino (ATmega328), Solidworks')]\n"
     ]
    }
   ],
   "source": [
    "from langchain_community.document_loaders import PyPDFLoader\n",
    "\n",
    "loader = PyPDFLoader(\"resume.pdf\")\n",
    "pages = loader.load_and_split()\n",
    "print(pages)\n"
   ]
  }
 ],
 "metadata": {
  "kernelspec": {
   "display_name": "base",
   "language": "python",
   "name": "python3"
  },
  "language_info": {
   "codemirror_mode": {
    "name": "ipython",
    "version": 3
   },
   "file_extension": ".py",
   "mimetype": "text/x-python",
   "name": "python",
   "nbconvert_exporter": "python",
   "pygments_lexer": "ipython3",
   "version": "3.12.3"
  }
 },
 "nbformat": 4,
 "nbformat_minor": 2
}
