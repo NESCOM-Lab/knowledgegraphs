{
 "cells": [
  {
   "cell_type": "code",
   "execution_count": 1,
   "metadata": {},
   "outputs": [
    {
     "name": "stdout",
     "output_type": "stream",
     "text": [
      "Note: you may need to restart the kernel to use updated packages.\n"
     ]
    },
    {
     "name": "stderr",
     "output_type": "stream",
     "text": [
      "\n",
      "[notice] A new release of pip is available: 24.3.1 -> 25.0\n",
      "[notice] To update, run: python.exe -m pip install --upgrade pip\n"
     ]
    }
   ],
   "source": [
    "%pip install --quiet --upgrade langchain-community langchain-core \"numpy<2.0\" langchain langchain-neo4j"
   ]
  },
  {
   "cell_type": "code",
   "execution_count": 2,
   "metadata": {},
   "outputs": [
    {
     "name": "stdout",
     "output_type": "stream",
     "text": [
      "Note: you may need to restart the kernel to use updated packages.\n"
     ]
    },
    {
     "name": "stderr",
     "output_type": "stream",
     "text": [
      "ERROR: Could not find a version that satisfies the requirement langcore-chains (from versions: none)\n",
      "ERROR: No matching distribution found for langcore-chains\n"
     ]
    }
   ],
   "source": [
    "%pip install --quiet neo4j langchain-neo4j langchain-community langchain-core langchain-experimental langchain-openai json-repair langcore-chains"
   ]
  },
  {
   "cell_type": "code",
   "execution_count": 11,
   "metadata": {},
   "outputs": [
    {
     "name": "stdout",
     "output_type": "stream",
     "text": [
      "Note: you may need to restart the kernel to use updated packages.\n"
     ]
    }
   ],
   "source": [
    "%pip install --quiet pinecone"
   ]
  },
  {
   "cell_type": "markdown",
   "metadata": {},
   "source": [
    "# Pinecone"
   ]
  },
  {
   "cell_type": "code",
   "execution_count": 12,
   "metadata": {},
   "outputs": [
    {
     "name": "stderr",
     "output_type": "stream",
     "text": [
      "c:\\Users\\abhis\\miniconda3\\Lib\\site-packages\\pinecone\\data\\index.py:1: TqdmWarning: IProgress not found. Please update jupyter and ipywidgets. See https://ipywidgets.readthedocs.io/en/stable/user_install.html\n",
      "  from tqdm.autonotebook import tqdm\n"
     ]
    }
   ],
   "source": [
    "from pinecone import Pinecone, ServerlessSpec\n",
    "# from dotenv import load_dotenv\n",
    "import os\n",
    "\n",
    "# load_dotenv()\n",
    "pinecone_api = os.getenv(\"pcsk_4z9bYm_LgR49d1AGSWQSfxxuViqWCqG2Y4pbrXuV8on8DQXpxNX82xYHu9vRA2gXwsKfuU\")\n",
    "\n",
    "pc = Pinecone(api_key=pinecone_api)"
   ]
  },
  {
   "cell_type": "code",
   "execution_count": 13,
   "metadata": {},
   "outputs": [],
   "source": [
    "from langchain_openai import OpenAIEmbeddings\n",
    "# from langchain_pinecone import PineconeEmbeddings\n",
    "\n",
    "\n",
    "# Initialize Pinecone\n",
    "pc = Pinecone(api_key=pinecone_api)\n",
    "index_name = \"document-index\"\n",
    "\n",
    "\n",
    "\n",
    "# print(pc.list_indexes)\n",
    "# if index_name not in pc.list_indexes():\n",
    "#     print(\"true\")\n",
    "#     pc.create_index(\n",
    "#         name=index_name,\n",
    "#         dimension=1536, # Replace with your model dimensions\n",
    "#         metric=\"cosine\", # Replace with your model metric\n",
    "#         spec=ServerlessSpec(\n",
    "#             cloud=\"aws\",\n",
    "#             region=\"us-east-1\"\n",
    "#         ) \n",
    "#     )\n",
    "\n",
    "\n",
    "\n",
    "# Connect to the index\n",
    "index = pc.Index(index_name)\n",
    "\n",
    "# Initialize embedding model (OpenAI)\n",
    "embedding_model = OpenAIEmbeddings(model=\"text-embedding-ada-002\")\n",
    "# embedding_model = PineconeEmbeddings(model=\"multilingual-e5-large\")\n",
    "\n",
    "\n"
   ]
  },
  {
   "cell_type": "markdown",
   "metadata": {},
   "source": [
    "# Clear vector DB if needed"
   ]
  },
  {
   "cell_type": "code",
   "execution_count": 25,
   "metadata": {},
   "outputs": [
    {
     "data": {
      "text/plain": [
       "{}"
      ]
     },
     "execution_count": 25,
     "metadata": {},
     "output_type": "execute_result"
    }
   ],
   "source": [
    "index.delete(delete_all=True)"
   ]
  },
  {
   "cell_type": "code",
   "execution_count": 26,
   "metadata": {},
   "outputs": [],
   "source": [
    "def find_similar_documents(query, top_k=4):\n",
    "    # Generate embedding for the query\n",
    "    query_embedding = embedding_model.embed_query(query)\n",
    "    \n",
    "    # Search in Pinecone\n",
    "    results = index.query(vector=query_embedding, top_k=top_k, include_metadata=True)\n",
    "\n",
    "    print(\"Raw Pinecone Response:\", results)  # Debugging step\n",
    "    \n",
    "    # Extract text from metadata (only if metadata exists)\n",
    "    retrieved_texts = [\n",
    "        match[\"metadata\"][\"text\"] for match in results[\"matches\"]\n",
    "        if \"metadata\" in match and \"text\" in match[\"metadata\"]\n",
    "    ]\n",
    "    \n",
    "    return retrieved_texts\n"
   ]
  },
  {
   "cell_type": "markdown",
   "metadata": {},
   "source": [
    "# Store document"
   ]
  },
  {
   "cell_type": "code",
   "execution_count": 27,
   "metadata": {},
   "outputs": [],
   "source": [
    "def embed_and_store_document(doc_id, content):\n",
    "    # Generate embedding for the content\n",
    "    embedding = embedding_model.embed_query(content)\n",
    "    \n",
    "    # Store in Pinecone with metadata\n",
    "    index.upsert([\n",
    "        {\n",
    "            \"id\": doc_id, \n",
    "            \"values\": embedding, \n",
    "            \"metadata\": {\"text\": content}  # Add metadata here\n",
    "        }\n",
    "    ])\n"
   ]
  },
  {
   "cell_type": "code",
   "execution_count": 28,
   "metadata": {},
   "outputs": [],
   "source": [
    "doc_id = \"document2.txt\"\n",
    "with open(doc_id) as file:\n",
    "    text = file.read()\n",
    "    embed_and_store_document(doc_id, text)"
   ]
  },
  {
   "cell_type": "markdown",
   "metadata": {},
   "source": [
    "# Prompting"
   ]
  },
  {
   "cell_type": "code",
   "execution_count": 29,
   "metadata": {},
   "outputs": [
    {
     "name": "stdout",
     "output_type": "stream",
     "text": [
      "Raw Pinecone Response: {'matches': [{'id': 'document2.txt',\n",
      "              'metadata': {'text': 'Ca2+/Calmodulin-dependent protein kinase '\n",
      "                                   'II (CaMKII) is abundant in synapses\\n'\n",
      "                                   'and able to mediate cell signalling in '\n",
      "                                   'response to Ca2+ transients. Both in vitro '\n",
      "                                   'and\\n'\n",
      "                                   'in vivo studies revealed that synaptic '\n",
      "                                   'stimulation causes a rapid translocation '\n",
      "                                   'of\\n'\n",
      "                                   'CaMKII to the synapse (Lisman, 1985; Wu '\n",
      "                                   'and Betz, 1998) and an acute increase\\n'\n",
      "                                   'of CaMKII activity leads to a potentiation '\n",
      "                                   'followed by an occlusion of LTP (Wu\\n'\n",
      "                                   'and Betz, 1998), indicating a key role in '\n",
      "                                   'synaptic plasticity (Whitlock et al., '\n",
      "                                   '2006).\\n'\n",
      "                                   'The CaMKII property, as multienzymatic '\n",
      "                                   'systems, to phosphorylate itself, is the\\n'\n",
      "                                   'molecular basis for a form of switch-like '\n",
      "                                   'behaviour that is thought to be '\n",
      "                                   'implicated\\n'\n",
      "                                   'with memory storing. The CaMKII '\n",
      "                                   'phosphorylated state, in contraposition to '\n",
      "                                   'the\\n'\n",
      "                                   'non-phosphorylated one, is more active '\n",
      "                                   'even at low calcium concentration and may\\n'\n",
      "                                   'provide a mechanism for long-lasting '\n",
      "                                   'memory without gene expression that is '\n",
      "                                   'under\\n'\n",
      "                                   'intense investigation from long time '\n",
      "                                   '(Lisman 85 e nuovo).\\n'\n",
      "                                   'The protein kinase A cyclic adenosine '\n",
      "                                   'monophosphate (cAMP)-dependent (PKA)\\n'\n",
      "                                   'is thought to be a LTP modulator. Recent '\n",
      "                                   'studies showed that PKA act as a gating\\n'\n",
      "                                   'factor for the threshold of LTP induction '\n",
      "                                   '(Carmignoto and Vicini, 1992), probably\\n'\n",
      "                                   'through the GluR1 phosphorylation at '\n",
      "                                   'Ser845 site that might increase the AMPAr\\n'\n",
      "                                   'open-probability (Quinlan et al., 1999).\\n'\n",
      "                                   'The protein kinase C (PKC) has attracted '\n",
      "                                   'great attention in the last 15 years. To\\n'\n",
      "                                   'date the PKC enzyme family consists of 12 '\n",
      "                                   'isozymes that can be further categorized '\n",
      "                                   'into Ca2+-dependent and Ca2+-independent '\n",
      "                                   'isoforms. Recently PKC has been\\n'\n",
      "                                   'characterized as responsible for the '\n",
      "                                   'phosphorylation at the Tir840 site of the '\n",
      "                                   'GluR1\\n'\n",
      "                                   '(Philpot et al., 2001).\\n'\n",
      "                                   'Protein phosphatase 1 (PP1) complexes are '\n",
      "                                   'necessary for normal regulation of\\n'\n",
      "                                   'AMPA- and NMDA-receptors and modulate '\n",
      "                                   'dendritic spine formation and dynamics '\n",
      "                                   '(Petralia and Wenthold, 1992). PP1 '\n",
      "                                   'activity might be antagonistically '\n",
      "                                   'modulated\\n'\n",
      "                                   'by cAMP and Ca2+ signalling pathways '\n",
      "                                   '(Walaas and Greengard, 1991), allowing\\n'\n",
      "                                   'multiple neurotransmitters to fine-tune '\n",
      "                                   'synaptic plasticity (for review, see '\n",
      "                                   'Malinow\\n'\n",
      "                                   'and Malenka, 2002).\\n'\n",
      "                                   'PP2B (also known as calcineurin) is the '\n",
      "                                   'only phosphatase directly modulated by a\\n'\n",
      "                                   'second messenger (Ca2+ acting via '\n",
      "                                   'calmodulin and the B regulatory subunit). '\n",
      "                                   'PP2B\\n'\n",
      "                                   'has a relatively restricted substrate '\n",
      "                                   'specificity compared with other '\n",
      "                                   'phosphatases.\\n'\n",
      "                                   'Because PP2B is activated at lower '\n",
      "                                   'Ca2+/calmodulin concentrations than '\n",
      "                                   'CaMKII,\\n'\n",
      "                                   'weak synaptic stimulation may '\n",
      "                                   'preferentially activate PP2B, whereas '\n",
      "                                   'stronger stimulation also recruits CaMKII '\n",
      "                                   'activation (Tzounopoulos et al., 2007).'},\n",
      "              'score': 0.674540401,\n",
      "              'values': []}],\n",
      " 'namespace': '',\n",
      " 'usage': {'read_units': 6}}\n",
      "I'm sorry, but the context provided does not mention anything about a document2.txt.\n"
     ]
    }
   ],
   "source": [
    "query = \"What is calcineurin?\"\n",
    "from openai import OpenAI\n",
    "\n",
    "client = OpenAI()\n",
    "\n",
    "def generate_answer(query):\n",
    "    # Retrieve relevant texts from Pinecone\n",
    "    context = find_similar_documents(query)\n",
    "    \n",
    "    # Combine into a prompt for the LLM\n",
    "    prompt = f\"Answer the following based on the provided context:\\n\\nContext: {context}\\n\\nQuestion: {query}\"\n",
    "    \n",
    "    # Generate response using GPT-4\n",
    "    response = client.chat.completions.create(\n",
    "        model=\"gpt-3.5-turbo\",\n",
    "        messages=[{\"role\": \"user\", \"content\": prompt}]\n",
    "    )\n",
    "    \n",
    "    return response.choices[0].message.content\n",
    "\n",
    "# Example query\n",
    "query = \"What is in document2.txt?\"\n",
    "answer = generate_answer(query)\n",
    "print(answer)"
   ]
  },
  {
   "cell_type": "markdown",
   "metadata": {},
   "source": [
    "# Neo4j"
   ]
  },
  {
   "cell_type": "code",
   "execution_count": 3,
   "metadata": {},
   "outputs": [],
   "source": [
    "\n",
    "# from langchain_community.graphs import Neo4jGraph\n",
    "from langchain_neo4j import Neo4jGraph\n",
    "from dotenv import load_dotenv\n",
    "import os\n",
    "# from langchain.graphs.neo4j_graph import Neo4jGraph \n",
    "\n",
    "load_dotenv()\n",
    "neo_pass = os.getenv(\"NEO4J_PASS\")\n",
    "neo_db_id = os.getenv(\"DB_ID\")\n",
    "\n",
    "graph = Neo4jGraph(\n",
    "    url=\"neo4j+s://f5c81351.databases.neo4j.io\",\n",
    "    username=\"neo4j\",\n",
    "    password=neo_pass,\n",
    "    enhanced_schema=True\n",
    "    # refresh_schema=Fa lse\n",
    ")\n",
    "\n",
    "def clean_graph():\n",
    "    query = \"\"\"\n",
    "    MATCH (n)\n",
    "    DETACH DELETE n\n",
    "    \"\"\"\n",
    "    graph.query(query)"
   ]
  },
  {
   "cell_type": "code",
   "execution_count": 4,
   "metadata": {},
   "outputs": [],
   "source": [
    "clean_graph()"
   ]
  },
  {
   "cell_type": "markdown",
   "metadata": {},
   "source": [
    "# GraphQA Chain"
   ]
  },
  {
   "cell_type": "code",
   "execution_count": 5,
   "metadata": {},
   "outputs": [],
   "source": [
    "# from langchain.chains import GraphQAChain old\n",
    "from langchain_neo4j import GraphCypherQAChain\n",
    "\n",
    "from langchain_core.prompts import PromptTemplate\n",
    "# from langchain_community.chains.graph_qa.cypher import GraphCypherQAChain\n"
   ]
  },
  {
   "cell_type": "markdown",
   "metadata": {},
   "source": [
    "# Connect to OpenAI"
   ]
  },
  {
   "cell_type": "code",
   "execution_count": 8,
   "metadata": {},
   "outputs": [],
   "source": [
    "import getpass\n",
    "import os\n",
    "from dotenv import load_dotenv\n",
    "\n",
    "load_dotenv()\n",
    "api_key = os.getenv(\"OPENAI_API_KEY\")\n",
    "# os.environ[api_key] = getpass.getpass()"
   ]
  },
  {
   "cell_type": "markdown",
   "metadata": {},
   "source": [
    "# Lanchain LLMGraphTransformer\n"
   ]
  },
  {
   "cell_type": "code",
   "execution_count": 9,
   "metadata": {},
   "outputs": [],
   "source": [
    "import os\n",
    "from langchain_experimental.graph_transformers import LLMGraphTransformer\n",
    "from langchain_openai import ChatOpenAI\n",
    "\n",
    "llm = ChatOpenAI(temperature=0, model_name=\"gpt-3.5-turbo\")\n",
    "\n",
    "additional_instructions = \"\"\"\n",
    "When creating entities Uppercase it.\n",
    "Example: \"Apple\" → \"APPLE\".\n",
    "\"\"\"\n",
    "llm_transformer = LLMGraphTransformer(llm=llm, additional_instructions=additional_instructions)\n"
   ]
  },
  {
   "cell_type": "markdown",
   "metadata": {},
   "source": [
    "# Parse Document"
   ]
  },
  {
   "cell_type": "code",
   "execution_count": 10,
   "metadata": {},
   "outputs": [
    {
     "name": "stdout",
     "output_type": "stream",
     "text": [
      "[GraphDocument(nodes=[Node(id='Ca2+/Calmodulin-Dependent Protein Kinase Ii (Camkii)', type='Protein', properties={}), Node(id='Synapses', type='Location', properties={}), Node(id='Cell Signalling', type='Process', properties={}), Node(id='Ca2+', type='Ion', properties={}), Node(id='Ltp', type='Process', properties={}), Node(id='Multienzymatic Systems', type='Property', properties={}), Node(id='Memory Storing', type='Process', properties={}), Node(id='Protein Kinase A Cyclic Adenosine Monophosphate (Pka)', type='Protein', properties={}), Node(id='Glur1', type='Protein', properties={}), Node(id='Protein Kinase C (Pkc)', type='Protein', properties={}), Node(id='Tir840', type='Site', properties={}), Node(id='Protein Phosphatase 1 (Pp1)', type='Protein', properties={}), Node(id='Ampa- And Nmda-Receptors', type='Protein', properties={}), Node(id='Dendritic Spine Formation', type='Process', properties={}), Node(id='Pp2B (Calcineurin)', type='Protein', properties={}), Node(id='Calmodulin', type='Protein', properties={}), Node(id='B Regulatory Subunit', type='Protein', properties={})], relationships=[Relationship(source=Node(id='Ca2+/Calmodulin-Dependent Protein Kinase Ii (Camkii)', type='Protein', properties={}), target=Node(id='Synapses', type='Location', properties={}), type='ABUNDANT_IN', properties={}), Relationship(source=Node(id='Ca2+/Calmodulin-Dependent Protein Kinase Ii (Camkii)', type='Protein', properties={}), target=Node(id='Cell Signalling', type='Process', properties={}), type='MEDIATE', properties={}), Relationship(source=Node(id='Ca2+/Calmodulin-Dependent Protein Kinase Ii (Camkii)', type='Protein', properties={}), target=Node(id='Ca2+', type='Ion', properties={}), type='RESPONSE_TO', properties={}), Relationship(source=Node(id='Ca2+/Calmodulin-Dependent Protein Kinase Ii (Camkii)', type='Protein', properties={}), target=Node(id='Synapses', type='Location', properties={}), type='TRANSLOCATION_TO', properties={}), Relationship(source=Node(id='Ca2+/Calmodulin-Dependent Protein Kinase Ii (Camkii)', type='Protein', properties={}), target=Node(id='Ltp', type='Process', properties={}), type='MEDIATE', properties={}), Relationship(source=Node(id='Ca2+/Calmodulin-Dependent Protein Kinase Ii (Camkii)', type='Protein', properties={}), target=Node(id='Multienzymatic Systems', type='Property', properties={}), type='PHOSPHORYLATE_ITSELF', properties={}), Relationship(source=Node(id='Ca2+/Calmodulin-Dependent Protein Kinase Ii (Camkii)', type='Protein', properties={}), target=Node(id='Memory Storing', type='Process', properties={}), type='IMPLICATED_WITH', properties={}), Relationship(source=Node(id='Protein Kinase A Cyclic Adenosine Monophosphate (Pka)', type='Protein', properties={}), target=Node(id='Ltp', type='Process', properties={}), type='MODULATOR_OF', properties={}), Relationship(source=Node(id='Protein Kinase A Cyclic Adenosine Monophosphate (Pka)', type='Protein', properties={}), target=Node(id='Glur1', type='Protein', properties={}), type='PHOSPHORYLATION_AT', properties={}), Relationship(source=Node(id='Glur1', type='Protein', properties={}), target=Node(id='Ser845', type='Site', properties={}), type='PHOSPHORYLATION_AT', properties={}), Relationship(source=Node(id='Protein Kinase C (Pkc)', type='Protein', properties={}), target=Node(id='Glur1', type='Protein', properties={}), type='PHOSPHORYLATION_AT', properties={}), Relationship(source=Node(id='Glur1', type='Protein', properties={}), target=Node(id='Tir840', type='Site', properties={}), type='PHOSPHORYLATION_AT', properties={}), Relationship(source=Node(id='Protein Phosphatase 1 (Pp1)', type='Protein', properties={}), target=Node(id='Ampa- And Nmda-Receptors', type='Protein', properties={}), type='REGULATION_OF', properties={}), Relationship(source=Node(id='Protein Phosphatase 1 (Pp1)', type='Protein', properties={}), target=Node(id='Dendritic Spine Formation', type='Process', properties={}), type='MODULATE', properties={}), Relationship(source=Node(id='Protein Phosphatase 1 (Pp1)', type='Protein', properties={}), target=Node(id='Camp', type='Ion', properties={}), type='ANTAGONISTIC_MODULATION_BY', properties={}), Relationship(source=Node(id='Protein Phosphatase 1 (Pp1)', type='Protein', properties={}), target=Node(id='Ca2+', type='Ion', properties={}), type='ANTAGONISTIC_MODULATION_BY', properties={}), Relationship(source=Node(id='Pp2B (Calcineurin)', type='Protein', properties={}), target=Node(id='Ca2+', type='Ion', properties={}), type='MODULATED_BY', properties={}), Relationship(source=Node(id='Ca2+', type='Ion', properties={}), target=Node(id='Calmodulin', type='Protein', properties={}), type='ACTING_VIA', properties={}), Relationship(source=Node(id='Ca2+', type='Ion', properties={}), target=Node(id='B Regulatory Subunit', type='Protein', properties={}), type='ACTING_VIA', properties={})], source=Document(metadata={}, page_content='Ca2+/Calmodulin-dependent protein kinase II (CaMKII) is abundant in synapses\\nand able to mediate cell signalling in response to Ca2+ transients. Both in vitro and\\nin vivo studies revealed that synaptic stimulation causes a rapid translocation of\\nCaMKII to the synapse (Lisman, 1985; Wu and Betz, 1998) and an acute increase\\nof CaMKII activity leads to a potentiation followed by an occlusion of LTP (Wu\\nand Betz, 1998), indicating a key role in synaptic plasticity (Whitlock et al., 2006).\\nThe CaMKII property, as multienzymatic systems, to phosphorylate itself, is the\\nmolecular basis for a form of switch-like behaviour that is thought to be implicated\\nwith memory storing. The CaMKII phosphorylated state, in contraposition to the\\nnon-phosphorylated one, is more active even at low calcium concentration and may\\nprovide a mechanism for long-lasting memory without gene expression that is under\\nintense investigation from long time (Lisman 85 e nuovo).\\nThe protein kinase A cyclic adenosine monophosphate (cAMP)-dependent (PKA)\\nis thought to be a LTP modulator. Recent studies showed that PKA act as a gating\\nfactor for the threshold of LTP induction (Carmignoto and Vicini, 1992), probably\\nthrough the GluR1 phosphorylation at Ser845 site that might increase the AMPAr\\nopen-probability (Quinlan et al., 1999).\\nThe protein kinase C (PKC) has attracted great attention in the last 15 years. To\\ndate the PKC enzyme family consists of 12 isozymes that can be further categorized into Ca2+-dependent and Ca2+-independent isoforms. Recently PKC has been\\ncharacterized as responsible for the phosphorylation at the Tir840 site of the GluR1\\n(Philpot et al., 2001).\\nProtein phosphatase 1 (PP1) complexes are necessary for normal regulation of\\nAMPA- and NMDA-receptors and modulate dendritic spine formation and dynamics (Petralia and Wenthold, 1992). PP1 activity might be antagonistically modulated\\nby cAMP and Ca2+ signalling pathways (Walaas and Greengard, 1991), allowing\\nmultiple neurotransmitters to fine-tune synaptic plasticity (for review, see Malinow\\nand Malenka, 2002).\\nPP2B (also known as calcineurin) is the only phosphatase directly modulated by a\\nsecond messenger (Ca2+ acting via calmodulin and the B regulatory subunit). PP2B\\nhas a relatively restricted substrate specificity compared with other phosphatases.\\nBecause PP2B is activated at lower Ca2+/calmodulin concentrations than CaMKII,\\nweak synaptic stimulation may preferentially activate PP2B, whereas stronger stimulation also recruits CaMKII activation (Tzounopoulos et al., 2007).'))]\n"
     ]
    }
   ],
   "source": [
    "from langchain_core.documents import Document\n",
    "with open('document2.txt', 'r') as file:\n",
    "    text = file.read()\n",
    "\n",
    "doc = [Document(page_content=text)]\n",
    "graph_doc = await llm_transformer.aconvert_to_graph_documents(doc)\n",
    "print(graph_doc)\n",
    "graph.add_graph_documents(graph_doc, include_source=True, baseEntityLabel=True)\n"
   ]
  }
 ],
 "metadata": {
  "kernelspec": {
   "display_name": "base",
   "language": "python",
   "name": "python3"
  },
  "language_info": {
   "codemirror_mode": {
    "name": "ipython",
    "version": 3
   },
   "file_extension": ".py",
   "mimetype": "text/x-python",
   "name": "python",
   "nbconvert_exporter": "python",
   "pygments_lexer": "ipython3",
   "version": "3.12.3"
  }
 },
 "nbformat": 4,
 "nbformat_minor": 2
}
